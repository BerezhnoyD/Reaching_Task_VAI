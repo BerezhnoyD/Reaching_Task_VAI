{
 "cells": [
  {
   "cell_type": "code",
   "execution_count": null,
   "id": "a8ee004e",
   "metadata": {},
   "outputs": [],
   "source": [
    "Ca_IT=Ca.iloc[:,[4,9,10,15,16,52,61,69,72,75,86,93,94,102,103,106,116,124,129,132,137,140,153,171,173,174,180]]\n",
    "Ca_PT=Ca.iloc[:,[3,7,8,18,21,25,30,34,43,44,58,59,64,65,66,76,77,79,84,85,100,107,110,125,141,142,155]]\n",
    "Ca_PT_all=Ca_df.drop(Ca_df.columns[[4,9,10,15,16,52,61,69,72,75,86,93,94,102,103,106,116,124,129,132,137,140,153,171,173,174,180]], axis=1)\n",
    "\n",
    "runcell('Open the IDAS DataFrame and save cell traces in numpy format', 'C:/Users/daniil.berezhnoi.VAI/Desktop/Python programs/Ca Imaging/Ca - Plotting tools.py')\n",
    "raw_plot(Ca_IT)\n",
    "Ca_IT['Time(s)/Cell Status']=Ca['Time(s)/Cell Status']\n",
    "Ca_PT['Time(s)/Cell Status']=Ca['Time(s)/Cell Status']\n",
    "Ca_IT=max_score_data(Ca_IT)\n",
    "Ca_PT=max_score_data(Ca_PT)"
   ]
  },
  {
   "cell_type": "code",
   "execution_count": null,
   "id": "59bd5aba",
   "metadata": {},
   "outputs": [],
   "source": [
    "PT_3=make_3darray(Ca_PT_filter, reaches_df_2)\n",
    "PT_3_missed=make_3darray_missed(Ca_PT_filter, reaches_df_2)\n",
    "PT_3_grasped=make_3darray_grasped(Ca_PT_filter, reaches_df_2)\n",
    "\n",
    "IT_3=make_3darray(Ca_IT_filter, reaches_df_2)\n",
    "IT_3_missed=make_3darray_missed(Ca_IT_filter, reaches_df_2)\n",
    "IT_3_grasped=make_3darray_grasped(Ca_IT_filter, reaches_df_2)\n"
   ]
  },
  {
   "cell_type": "code",
   "execution_count": null,
   "id": "2bd0499c",
   "metadata": {},
   "outputs": [],
   "source": [
    "directory = 'C:/Users/daniil.berezhnoi.VAI/Desktop/Current Experiments/BLA project/Ca imaging/BLA_TMT_OpenField/'\n",
    "file='BLA_1000_OpenField_Baseline.csv'\n",
    "Ca_df, Ca = OpenTraces(directory, file)"
   ]
  },
  {
   "cell_type": "code",
   "execution_count": null,
   "id": "3fb2b033",
   "metadata": {},
   "outputs": [],
   "source": [
    "Ca_filter=filter_data(Ca)\n",
    "Ca_z=z_score_data(Ca_filter)\n",
    "Ca_max=max_score_data(Ca_filter)"
   ]
  },
  {
   "cell_type": "code",
   "execution_count": null,
   "id": "952fc00c",
   "metadata": {},
   "outputs": [],
   "source": [
    "raw_plot(Ca)\n",
    "raw_plot(Ca_filter)"
   ]
  },
  {
   "cell_type": "code",
   "execution_count": null,
   "id": "3f667204",
   "metadata": {},
   "outputs": [],
   "source": [
    "Ca_events  = detect_events(Ca_filter)\n",
    "\n"
   ]
  },
  {
   "cell_type": "code",
   "execution_count": null,
   "id": "3b67f2d9",
   "metadata": {},
   "outputs": [],
   "source": [
    "spike_parameters(Ca_events)"
   ]
  },
  {
   "cell_type": "code",
   "execution_count": null,
   "id": "d3be72af",
   "metadata": {},
   "outputs": [],
   "source": [
    "plot_scatterbox(Ca_events[0],Ca_events_TMT[0])\n",
    "plot_scatterbox(np.where(Ca_events[1]==0, np.nan, Ca_events[1]),\n",
    "                np.where(Ca_events_TMT[1]==0, np.nan, Ca_events_TMT[1]),\n",
    "                plot='mean', yaxis='Peak height')\n",
    "plot_scatterbox(Ca_events[6], Ca_events_TMT[6], plot='mean',\n",
    "                yaxis='Area under the curve', labels=['Baseline','TMT'])\n",
    "plot_scatterbox(Correl, Correl_TMT, plot='mean', yaxis='Asymmetric correlation', labels=['Baseline','TMT'])"
   ]
  },
  {
   "cell_type": "code",
   "execution_count": null,
   "id": "11c314af",
   "metadata": {},
   "outputs": [],
   "source": [
    "CCorrel=compute_cc_data(Ca_filter)\n",
    "Correl=compute_asymmetric(Ca_events[7])"
   ]
  },
  {
   "cell_type": "code",
   "execution_count": null,
   "id": "e73cab41",
   "metadata": {},
   "outputs": [],
   "source": [
    "plot_correlation(Correl, diagonal=False, mask=False, Vmin=0, Vmax=0.3)\n",
    "plot_correlation(Ccorrel[2])"
   ]
  }
 ],
 "metadata": {
  "kernelspec": {
   "display_name": "Python [conda env:caiman]",
   "language": "python",
   "name": "conda-env-caiman-py"
  },
  "language_info": {
   "codemirror_mode": {
    "name": "ipython",
    "version": 3
   },
   "file_extension": ".py",
   "mimetype": "text/x-python",
   "name": "python",
   "nbconvert_exporter": "python",
   "pygments_lexer": "ipython3",
   "version": "3.8.16"
  }
 },
 "nbformat": 4,
 "nbformat_minor": 5
}
